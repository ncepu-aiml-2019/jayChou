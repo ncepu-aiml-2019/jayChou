{
 "cells": [
  {
   "cell_type": "code",
   "execution_count": 1,
   "metadata": {
    "collapsed": true,
    "pycharm": {
     "is_executing": false
    }
   },
   "outputs": [
    {
     "name": "stdout",
     "text": [
      "2\n3\n5\n7\n11\n13\n17\n19\n23\n29\n31\n37\n41\n43\n47\n53\n59\n61\n67\n71\n73\n79\n83\n89\n97\n"
     ],
     "output_type": "stream"
    }
   ],
   "source": [
    "n = int(input('请输入求解的范围：'))\n",
    "\n",
    "numbers = [1 for i in range(n)]\n",
    "\n",
    "for i in range(2, n):\n",
    "    if numbers[i] != 0:\n",
    "        j = 2\n",
    "        while (j * i) < len(numbers):\n",
    "            numbers[i*j] = 0\n",
    "            j = j + 1\n",
    "\n",
    "for i in range(2, n):\n",
    "    if numbers[i] == 1:\n",
    "        print(i)\n",
    "\n"
   ]
  }
 ],
 "metadata": {
  "kernelspec": {
   "display_name": "Python 3",
   "language": "python",
   "name": "python3"
  },
  "language_info": {
   "codemirror_mode": {
    "name": "ipython",
    "version": 2
   },
   "file_extension": ".py",
   "mimetype": "text/x-python",
   "name": "python",
   "nbconvert_exporter": "python",
   "pygments_lexer": "ipython2",
   "version": "2.7.6"
  },
  "pycharm": {
   "stem_cell": {
    "cell_type": "raw",
    "source": [],
    "metadata": {
     "collapsed": false
    }
   }
  }
 },
 "nbformat": 4,
 "nbformat_minor": 0
}